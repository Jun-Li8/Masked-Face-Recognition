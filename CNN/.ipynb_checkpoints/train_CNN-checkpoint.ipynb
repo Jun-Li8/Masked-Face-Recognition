{
 "cells": [
  {
   "cell_type": "code",
   "execution_count": 15,
   "id": "a35a5290-1909-4f82-8eb7-5bb9ed113d81",
   "metadata": {},
   "outputs": [],
   "source": [
    "import cv2\n",
    "import os\n",
    "import numpy as np\n",
    "from PIL import Image\n",
    "import pickle\n",
    "import matplotlib.pyplot as plt"
   ]
  },
  {
   "cell_type": "code",
   "execution_count": 17,
   "id": "0ebbdc57-9cb9-407a-9607-67a3573620b9",
   "metadata": {},
   "outputs": [
    {
     "data": {
      "text/plain": [
       "<matplotlib.image.AxesImage at 0x27d590c4970>"
      ]
     },
     "execution_count": 17,
     "metadata": {},
     "output_type": "execute_result"
    },
    {
     "data": {
      "image/png": "[encoded data removed]",
      "text/plain": [
       "<Figure size 432x288 with 1 Axes>"
      ]
     },
     "metadata": {
      "needs_background": "light"
     },
     "output_type": "display_data"
    }
   ],
   "source": [
    "image = cv2.imread('training_data/jun/IMG_0421.jpg')\n",
    "gray = cv2.cvtColor(image,cv2.COLOR_BGR2GRAY)\n",
    "resized_img = cv2.resize(gray, (70, 70), interpolation=cv2.INTER_AREA)\n",
    "final = cv2.equalizeHist(resized_img)\n",
    "plt.imshow(final)"
   ]
  },
  {
   "cell_type": "code",
   "execution_count": 1,
   "id": "6b115e38-4317-4b92-bcd6-dc9d52623052",
   "metadata": {},
   "outputs": [],
   "source": [
    "from tensorflow.keras.optimizers import RMSprop\n",
    "from keras.preprocessing.image import ImageDataGenerator\n",
    "import cv2\n",
    "from keras.models import Sequential\n",
    "from keras.layers import Conv2D, Input, ZeroPadding2D, BatchNormalization, Activation, MaxPooling2D, Flatten, Dense,Dropout\n",
    "from keras.models import Model, load_model\n",
    "from keras.callbacks import TensorBoard, ModelCheckpoint\n",
    "from sklearn.model_selection import train_test_split\n",
    "from sklearn.metrics import f1_score\n",
    "from sklearn.utils import shuffle\n",
    "import imutils\n",
    "import numpy as np"
   ]
  },
  {
   "cell_type": "code",
   "execution_count": 2,
   "id": "6759e33b-27c7-48ab-b23c-149fa2fc0ca4",
   "metadata": {},
   "outputs": [],
   "source": [
    "model =Sequential([\n",
    "    Conv2D(100, (3,3), activation='relu', input_shape=(150, 150, 3)),\n",
    "    MaxPooling2D(2,2),\n",
    "    \n",
    "    Conv2D(100, (3,3), activation='relu'),\n",
    "    MaxPooling2D(2,2),\n",
    "    \n",
    "    Flatten(),\n",
    "    Dropout(0.5),\n",
    "    Dense(50, activation='relu'),\n",
    "    Dense(2, activation='softmax')\n",
    "])\n",
    "model.compile(optimizer='adam', loss='binary_crossentropy', metrics=['acc'])"
   ]
  },
  {
   "cell_type": "code",
   "execution_count": 3,
   "id": "b00e048a-e227-426d-bc8f-6c12b744b7f3",
   "metadata": {},
   "outputs": [
    {
     "name": "stdout",
     "output_type": "stream",
     "text": [
      "Found 1365 images belonging to 2 classes.\n"
     ]
    }
   ],
   "source": [
    "TRAINING_DIR = \"../Train\"\n",
    "train_datagen = ImageDataGenerator(rescale=1.0/255,\n",
    "                                   rotation_range=40,\n",
    "                                   width_shift_range=0.2,\n",
    "                                   height_shift_range=0.2,\n",
    "                                   shear_range=0.2,\n",
    "                                   zoom_range=0.2,\n",
    "                                   horizontal_flip=True,\n",
    "                                   fill_mode='nearest')\n",
    "\n",
    "train_generator = train_datagen.flow_from_directory(TRAINING_DIR, \n",
    "                                                    batch_size=10, \n",
    "                                                    target_size=(150, 150))"
   ]
  },
  {
   "cell_type": "code",
   "execution_count": 4,
   "id": "3c2dd329-696e-4025-995e-0730aff16014",
   "metadata": {},
   "outputs": [
    {
     "name": "stdout",
     "output_type": "stream",
     "text": [
      "Found 200 images belonging to 2 classes.\n"
     ]
    }
   ],
   "source": [
    "VALIDATION_DIR = \"../Validation\"\n",
    "validation_datagen = ImageDataGenerator(rescale=1.0/255)\n",
    "\n",
    "validation_generator = validation_datagen.flow_from_directory(VALIDATION_DIR, \n",
    "                                                         batch_size=10, \n",
    "                                                         target_size=(150, 150))"
   ]
  },
  {
   "cell_type": "code",
   "execution_count": 5,
   "id": "0ccb1fd5-7566-4d77-8732-39207f0e7ae2",
   "metadata": {},
   "outputs": [],
   "source": [
    "checkpoint = ModelCheckpoint('model3-{epoch:03d}.model',monitor='val_loss',verbose=0,save_best_only=True,mode='auto')"
   ]
  },
  {
   "cell_type": "code",
   "execution_count": null,
   "id": "e9931f8f-a630-4156-9446-e8874b264a26",
   "metadata": {},
   "outputs": [
    {
     "name": "stderr",
     "output_type": "stream",
     "text": [
      "C:\\Users\\DrNuj\\AppData\\Local\\Temp/ipykernel_31616/3620006576.py:1: UserWarning: `Model.fit_generator` is deprecated and will be removed in a future version. Please use `Model.fit`, which supports generators.\n",
      "  history = model.fit_generator(train_generator,\n"
     ]
    },
    {
     "name": "stdout",
     "output_type": "stream",
     "text": [
      "Epoch 1/10\n",
      "137/137 [==============================] - ETA: 0s - loss: 0.6262 - acc: 0.6484- ETA: 4s - loss: 0.6888 - ETA: 2s INFO:tensorflow:Assets written to: model3-001.model\\assets\n",
      "137/137 [==============================] - 19s 120ms/step - loss: 0.6262 - acc: 0.6484 - val_loss: 0.2829 - val_acc: 0.9200\n",
      "Epoch 2/10\n",
      "137/137 [==============================] - ETA: 0s - loss: 0.3451 - acc: 0.8711- ETA: 0s - loss: 0.3383 - INFO:tensorflow:Assets written to: model3-002.model\\assets\n",
      "137/137 [==============================] - 13s 92ms/step - loss: 0.3451 - acc: 0.8711 - val_loss: 0.2209 - val_acc: 0.9450\n",
      "Epoch 3/10\n",
      "137/137 [==============================] - ETA: 0s - loss: 0.2959 - acc: 0.8850INFO:tensorflow:Assets written to: model3-003.model\\assets\n",
      "137/137 [==============================] - 13s 92ms/step - loss: 0.2959 - acc: 0.8850 - val_loss: 0.1051 - val_acc: 0.9500\n",
      "Epoch 4/10\n",
      "137/137 [==============================] - 12s 89ms/step - loss: 0.2451 - acc: 0.9055 - val_loss: 0.1278 - val_acc: 0.9550\n",
      "Epoch 5/10\n",
      "137/137 [==============================] - ETA: 0s - loss: 0.2387 - acc: 0.9062INFO:tensorflow:Assets written to: model3-005.model\\assets\n",
      "137/137 [==============================] - 13s 96ms/step - loss: 0.2387 - acc: 0.9062 - val_loss: 0.0886 - val_acc: 0.9650\n",
      "Epoch 6/10\n",
      "137/137 [==============================] - 12s 88ms/step - loss: 0.2281 - acc: 0.9150 - val_loss: 0.1035 - val_acc: 0.9600\n",
      "Epoch 7/10\n",
      "137/137 [==============================] - 12s 90ms/step - loss: 0.2170 - acc: 0.9253 - val_loss: 0.1439 - val_acc: 0.9400\n",
      "Epoch 8/10\n",
      "137/137 [==============================] - 13s 98ms/step - loss: 0.3036 - acc: 0.8850 - val_loss: 0.1558 - val_acc: 0.9450\n",
      "Epoch 9/10\n",
      " 42/137 [========>.....................] - ETA: 8s - loss: 0.1993 - acc: 0.9214- ETA: 8s - loss: 0.2101 - acc: 0"
     ]
    }
   ],
   "source": [
    "history = model.fit_generator(train_generator,\n",
    "                              epochs=10,\n",
    "                              validation_data=validation_generator,\n",
    "                              callbacks=[checkpoint])"
   ]
  },
  {
   "cell_type": "code",
   "execution_count": null,
   "id": "a02d980e-1760-4302-8cde-670a8e6c9fc2",
   "metadata": {},
   "outputs": [],
   "source": []
  }
 ],
 "metadata": {
  "kernelspec": {
   "display_name": "Python 3 (ipykernel)",
   "language": "python",
   "name": "python3"
  },
  "language_info": {
   "codemirror_mode": {
    "name": "ipython",
    "version": 3
   },
   "file_extension": ".py",
   "mimetype": "text/x-python",
   "name": "python",
   "nbconvert_exporter": "python",
   "pygments_lexer": "ipython3",
   "version": "3.9.7"
  }
 },
 "nbformat": 4,
 "nbformat_minor": 5
}
