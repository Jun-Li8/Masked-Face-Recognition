{
 "cells": [
  {
   "cell_type": "code",
   "execution_count": 1,
   "metadata": {},
   "outputs": [],
   "source": [
    "from tensorflow.keras.optimizers import RMSprop\n",
    "from keras.preprocessing.image import ImageDataGenerator\n",
    "import cv2\n",
    "from keras.models import Sequential\n",
    "from keras.layers import Conv2D, Input, ZeroPadding2D, BatchNormalization, Activation, MaxPooling2D, Flatten, Dense,Dropout\n",
    "from keras.models import Model, load_model\n",
    "from keras.callbacks import TensorBoard, ModelCheckpoint\n",
    "from sklearn.model_selection import train_test_split\n",
    "from sklearn.metrics import f1_score\n",
    "from sklearn.utils import shuffle\n",
    "import imutils\n",
    "import numpy as np"
   ]
  },
  {
   "cell_type": "code",
   "execution_count": 2,
   "metadata": {},
   "outputs": [],
   "source": [
    "from keras.applications.vgg19 import VGG19\n",
    "from keras.applications.vgg19 import preprocess_input\n",
    "from keras import Sequential\n",
    "from keras.layers import Flatten, Dense\n",
    "from keras.preprocessing.image import ImageDataGenerator"
   ]
  },
  {
   "cell_type": "code",
   "execution_count": 4,
   "metadata": {},
   "outputs": [
    {
     "name": "stdout",
     "output_type": "stream",
     "text": [
      "Found 10003 images belonging to 2 classes.\n"
     ]
    }
   ],
   "source": [
    "train_dir = '../Train'\n",
    "train_datagen = ImageDataGenerator(rescale=1.0/255, horizontal_flip=True, zoom_range=0.2,shear_range=0.2)\n",
    "train_generator = train_datagen.flow_from_directory(directory=train_dir,target_size=(128,128),class_mode='categorical',batch_size=32)"
   ]
  },
  {
   "cell_type": "code",
   "execution_count": 5,
   "metadata": {},
   "outputs": [
    {
     "name": "stdout",
     "output_type": "stream",
     "text": [
      "Found 1792 images belonging to 2 classes.\n"
     ]
    }
   ],
   "source": [
    "val_dir = '../Validation'\n",
    "val_datagen = ImageDataGenerator(rescale=1.0/255)\n",
    "val_generator = val_datagen.flow_from_directory(directory=val_dir,target_size=(128,128),class_mode='categorical',batch_size=32)"
   ]
  },
  {
   "cell_type": "code",
   "execution_count": 6,
   "metadata": {},
   "outputs": [],
   "source": [
    "vgg19 = VGG19(weights='imagenet',include_top=False,input_shape=(128,128,3))\n",
    "\n",
    "for layer in vgg19.layers:\n",
    "    layer.trainable = False\n",
    "\n",
    "model =Sequential([\n",
    "    vgg19,\n",
    "    Flatten(),\n",
    "    Dense(2, activation='sigmoid')\n",
    "])\n",
    "model.compile(optimizer='adam', loss='categorical_crossentropy', metrics='accuracy')"
   ]
  },
  {
   "cell_type": "code",
   "execution_count": 7,
   "metadata": {},
   "outputs": [],
   "source": [
    "checkpoint = ModelCheckpoint('model4-{epoch:03d}.model',monitor='val_loss',verbose=0,save_best_only=True,mode='auto')"
   ]
  },
  {
   "cell_type": "code",
   "execution_count": 8,
   "metadata": {},
   "outputs": [
    {
     "name": "stderr",
     "output_type": "stream",
     "text": [
      "C:\\Users\\DrNuj\\AppData\\Local\\Temp/ipykernel_26860/4062518945.py:1: UserWarning: `Model.fit_generator` is deprecated and will be removed in a future version. Please use `Model.fit`, which supports generators.\n",
      "  history = model.fit_generator(train_generator,\n"
     ]
    },
    {
     "name": "stdout",
     "output_type": "stream",
     "text": [
      "Epoch 1/10\n",
      "313/313 [==============================] - ETA: 0s - loss: 0.1055 - accuracy: 0.9598INFO:tensorflow:Assets written to: model4-001.model\\assets\n",
      "313/313 [==============================] - 227s 699ms/step - loss: 0.1055 - accuracy: 0.9598 - val_loss: 0.0365 - val_accuracy: 0.9860\n",
      "Epoch 2/10\n",
      "313/313 [==============================] - ETA: 0s - loss: 0.0381 - accuracy: 0.9887INFO:tensorflow:Assets written to: model4-002.model\\assets\n",
      "313/313 [==============================] - 114s 363ms/step - loss: 0.0381 - accuracy: 0.9887 - val_loss: 0.0204 - val_accuracy: 0.9939\n",
      "Epoch 3/10\n",
      "313/313 [==============================] - 108s 343ms/step - loss: 0.0314 - accuracy: 0.9904 - val_loss: 0.0277 - val_accuracy: 0.9905\n",
      "Epoch 4/10\n",
      "313/313 [==============================] - ETA: 0s - loss: 0.0226 - accuracy: 0.9936INFO:tensorflow:Assets written to: model4-004.model\\assets\n",
      "313/313 [==============================] - 123s 392ms/step - loss: 0.0226 - accuracy: 0.9936 - val_loss: 0.0140 - val_accuracy: 0.9950\n",
      "Epoch 5/10\n",
      "313/313 [==============================] - 107s 342ms/step - loss: 0.0251 - accuracy: 0.9913 - val_loss: 0.0146 - val_accuracy: 0.9961\n",
      "Epoch 6/10\n",
      "313/313 [==============================] - ETA: 0s - loss: 0.0184 - accuracy: 0.9934INFO:tensorflow:Assets written to: model4-006.model\\assets\n",
      "313/313 [==============================] - 110s 350ms/step - loss: 0.0184 - accuracy: 0.9934 - val_loss: 0.0137 - val_accuracy: 0.9944\n",
      "Epoch 7/10\n",
      "313/313 [==============================] - ETA: 0s - loss: 0.0150 - accuracy: 0.9953INFO:tensorflow:Assets written to: model4-007.model\\assets\n",
      "313/313 [==============================] - 100s 319ms/step - loss: 0.0150 - accuracy: 0.9953 - val_loss: 0.0136 - val_accuracy: 0.9944\n",
      "Epoch 8/10\n",
      "313/313 [==============================] - ETA: 0s - loss: 0.0181 - accuracy: 0.9939INFO:tensorflow:Assets written to: model4-008.model\\assets\n",
      "313/313 [==============================] - 100s 319ms/step - loss: 0.0181 - accuracy: 0.9939 - val_loss: 0.0133 - val_accuracy: 0.9967\n",
      "Epoch 9/10\n",
      "313/313 [==============================] - ETA: 0s - loss: 0.0129 - accuracy: 0.9962INFO:tensorflow:Assets written to: model4-009.model\\assets\n",
      "313/313 [==============================] - 98s 312ms/step - loss: 0.0129 - accuracy: 0.9962 - val_loss: 0.0108 - val_accuracy: 0.9967\n",
      "Epoch 10/10\n",
      "313/313 [==============================] - 94s 299ms/step - loss: 0.0172 - accuracy: 0.9937 - val_loss: 0.0127 - val_accuracy: 0.9955\n"
     ]
    }
   ],
   "source": [
    "history = model.fit_generator(train_generator,\n",
    "                              epochs=10,\n",
    "                              validation_data=val_generator,\n",
    "                              callbacks=[checkpoint])"
   ]
  },
  {
   "cell_type": "code",
   "execution_count": null,
   "metadata": {},
   "outputs": [],
   "source": []
  }
 ],
 "metadata": {
  "kernelspec": {
   "display_name": "Python 3 (ipykernel)",
   "language": "python",
   "name": "python3"
  },
  "language_info": {
   "codemirror_mode": {
    "name": "ipython",
    "version": 3
   },
   "file_extension": ".py",
   "mimetype": "text/x-python",
   "name": "python",
   "nbconvert_exporter": "python",
   "pygments_lexer": "ipython3",
   "version": "3.9.7"
  }
 },
 "nbformat": 4,
 "nbformat_minor": 4
}
